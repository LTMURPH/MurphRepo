{
 "cells": [
  {
   "cell_type": "markdown",
   "id": "f16a84c6-9157-4d32-9519-d855d1855a81",
   "metadata": {},
   "source": [
    "# Assessment - Floyd Warshall Algorithm"
   ]
  },
  {
   "cell_type": "markdown",
   "id": "805eaa85-dcf3-4f30-866b-9ef788c1d315",
   "metadata": {},
   "source": [
    "## The aim of this notebook is to explain the differences between implementations of the Floyd-Warshall Shortest Path Algorithm. "
   ]
  },
  {
   "cell_type": "markdown",
   "id": "414fd035-9d11-4e22-abc5-a49dc3d39310",
   "metadata": {},
   "source": [
    "### Section A Load dependencies & set recursion limit:"
   ]
  },
  {
   "cell_type": "code",
   "execution_count": 61,
   "id": "62c89431",
   "metadata": {},
   "outputs": [],
   "source": [
    "import sys\n",
    "import itertools\n",
    "import unittest\n",
    "import time \n",
    "import autopep8\n",
    "\n",
    "sys.setrecursionlimit(1000) "
   ]
  },
  {
   "cell_type": "markdown",
   "id": "75364aa4-b724-4ff8-916a-eea459c45e6d",
   "metadata": {},
   "source": [
    "### Use graph matrix from \"Geeks for Geeks\" example"
   ]
  },
  {
   "cell_type": "code",
   "execution_count": 107,
   "id": "a732f363",
   "metadata": {},
   "outputs": [],
   "source": [
    "INF = 999\n",
    "\n",
    "#graph of distances\n",
    "graph = [[0, 5, INF, 10],\n",
    "         [INF, 0, 3, INF],\n",
    "         [INF, INF, 0,   1],\n",
    "         [INF, INF, INF, 0]]"
   ]
  },
  {
   "cell_type": "markdown",
   "id": "2256e7be",
   "metadata": {},
   "source": [
    "### Section B Create a recursive method"
   ]
  },
  {
   "cell_type": "code",
   "execution_count": 63,
   "id": "a1d9fc44",
   "metadata": {},
   "outputs": [],
   "source": [
    "n=4\n",
    "def shortest_path(i,j,k,dist):\n",
    "    \n",
    "# i = source vertex\n",
    "# j = destination vertex\n",
    "# k = intermediate vertex\n",
    "# dist = distance matrix\n",
    "    \n",
    "#Base Case    \n",
    "    if i == j:\n",
    "        return 0\n",
    "    elif k == 0:\n",
    "        return dist[i][j]\n",
    "#Recursive Case    \n",
    "    else:\n",
    "        dist[i][j] = min(shortest_path(i,j,k-1,dist), (shortest_path (i,k,k-1,dist))+(shortest_path(k,j,k-1,dist)))\n",
    "        return(dist[i][j])"
   ]
  },
  {
   "cell_type": "code",
   "execution_count": 66,
   "id": "a38dceae-7cce-4488-ada3-d6c9e2f20784",
   "metadata": {
    "scrolled": false
   },
   "outputs": [
    {
     "name": "stdout",
     "output_type": "stream",
     "text": [
      "CPU times: user 17 µs, sys: 1 µs, total: 18 µs\n",
      "Wall time: 20 µs\n"
     ]
    },
    {
     "data": {
      "text/plain": [
       "9"
      ]
     },
     "execution_count": 66,
     "metadata": {},
     "output_type": "execute_result"
    }
   ],
   "source": [
    "%%time\n",
    "\n",
    "shortest_path(0,3,3,graph)"
   ]
  },
  {
   "cell_type": "markdown",
   "id": "aa89f203",
   "metadata": {},
   "source": [
    "### Section C  Showing multiple shortest paths"
   ]
  },
  {
   "cell_type": "code",
   "execution_count": 108,
   "id": "48eb9687-9c6a-4acb-af3d-8b86a97d8d14",
   "metadata": {},
   "outputs": [
    {
     "name": "stdout",
     "output_type": "stream",
     "text": [
      "Shortest path from 0 to 1 is 5\n",
      "Shortest path from 0 to 2 is 8\n",
      "Shortest path from 0 to 3 is 9\n",
      "Shortest path from 1 to 0 is 999\n",
      "Shortest path from 1 to 2 is 3\n",
      "Shortest path from 1 to 3 is 4\n",
      "Shortest path from 2 to 0 is 999\n",
      "Shortest path from 2 to 1 is 999\n",
      "Shortest path from 2 to 3 is 1\n",
      "Shortest path from 3 to 0 is 999\n",
      "Shortest path from 3 to 1 is 999\n",
      "Shortest path from 3 to 2 is 999\n"
     ]
    }
   ],
   "source": [
    "#Create a recursive function \n",
    "def shortest_path(i,j,k,dist):\n",
    "    if i == j:\n",
    "        return 0\n",
    "    elif k == 0:\n",
    "        return dist[i][j]\n",
    "#We find the minimum distance between the points from the 3 possible routes\n",
    "    else:\n",
    "        dist[i][j] = min(shortest_path(i,j,k-1,dist), (shortest_path (i,k,k-1,dist))+(shortest_path(k,j,k-1,dist)))\n",
    "        return(dist[i][j])\n",
    "n = 4\n",
    "for i in range(n):\n",
    "    for j in range(n):\n",
    "        if i != j:\n",
    "            print(f\"Shortest path from {i} to {j} is {shortest_path(i, j, 3, graph)}\")\n",
    "            \n"
   ]
  },
  {
   "cell_type": "code",
   "execution_count": 109,
   "id": "4e18d672",
   "metadata": {},
   "outputs": [
    {
     "name": "stdout",
     "output_type": "stream",
     "text": [
      "CPU times: user 24 µs, sys: 1 µs, total: 25 µs\n",
      "Wall time: 27.9 µs\n"
     ]
    },
    {
     "data": {
      "text/plain": [
       "9"
      ]
     },
     "execution_count": 109,
     "metadata": {},
     "output_type": "execute_result"
    }
   ],
   "source": [
    "%%time\n",
    "shortest_path(0,3,3,graph)"
   ]
  },
  {
   "cell_type": "markdown",
   "id": "6db4d099-7bf8-4a53-b83b-1e0c91f051b2",
   "metadata": {},
   "source": [
    "### Section D Change function to try and store all paths as a matrix. "
   ]
  },
  {
   "cell_type": "code",
   "execution_count": 75,
   "id": "52803ae5-261c-4f4c-9f76-955578dc35a1",
   "metadata": {},
   "outputs": [
    {
     "name": "stdout",
     "output_type": "stream",
     "text": [
      "[0, 5, [[...], [999, 0, 3, 4], [999, 999, 0, [...]], [999, 999, 999, 0]], [[...], [999, 0, 3, 4], [999, 999, 0, [...]], [999, 999, 999, 0]]]\n",
      "[999, 0, 3, 4]\n",
      "[999, 999, 0, [[0, 5, [...], [...]], [999, 0, 3, 4], [...], [999, 999, 999, 0]]]\n",
      "[999, 999, 999, 0]\n"
     ]
    }
   ],
   "source": [
    "#Create a recursive function \n",
    "def shortest_path(i,j,k,dist):\n",
    "    if i == j:\n",
    "        return dist\n",
    "    elif k == 0:\n",
    "        return dist\n",
    "#We find the minimum distance between the points from the 3 possible routes\n",
    "    else:\n",
    "        dist[i][j] = min(shortest_path(i,j,k-1,dist), (shortest_path (i,k,k-1,dist))+(shortest_path(k,j,k-1,dist)))\n",
    "        return(dist[i][j])\n",
    "\n",
    "dist = [row[:] for row in graph]\n",
    "\n",
    "shortest_path_matrix = shortest_path(0,3,3,graph)\n",
    "for v in shortest_path_matrix:\n",
    "    print(v)"
   ]
  },
  {
   "cell_type": "code",
   "execution_count": 76,
   "id": "2c137797",
   "metadata": {},
   "outputs": [
    {
     "name": "stdout",
     "output_type": "stream",
     "text": [
      "CPU times: user 16 µs, sys: 0 ns, total: 16 µs\n",
      "Wall time: 20 µs\n"
     ]
    },
    {
     "data": {
      "text/plain": [
       "[[0, 5, [...], [...]],\n",
       " [999, 0, 3, 4],\n",
       " [999, 999, 0, [...]],\n",
       " [999, 999, 999, 0]]"
      ]
     },
     "execution_count": 76,
     "metadata": {},
     "output_type": "execute_result"
    }
   ],
   "source": [
    "%%time\n",
    "\n",
    "shortest_path(0,3,3,graph)"
   ]
  },
  {
   "cell_type": "markdown",
   "id": "e5977bde",
   "metadata": {},
   "source": [
    "#Output here is showing a recursive error in results, on specific integers."
   ]
  },
  {
   "cell_type": "markdown",
   "id": "8bfc1740-f66d-4b23-abd7-632ee7cfb0b7",
   "metadata": {},
   "source": [
    "### Section E Produce as a matrix"
   ]
  },
  {
   "cell_type": "code",
   "execution_count": 86,
   "id": "a8e4abf3-9d75-4bc0-b98e-8131854cd012",
   "metadata": {},
   "outputs": [
    {
     "name": "stdout",
     "output_type": "stream",
     "text": [
      "[0, 5, 8, 9]\n",
      "[999, 0, 3, 4]\n",
      "[999, 999, 0, 1]\n",
      "[999, 999, 999, 0]\n"
     ]
    }
   ],
   "source": [
    "n = 4\n",
    "graph = [[0, 5, INF, 10],\n",
    "         [INF, 0, 3, INF],\n",
    "         [INF, INF, 0,   1],\n",
    "         [INF, INF, INF, 0]]\n",
    "def shortest_path(i,j,k,dist):\n",
    "    if i == j:\n",
    "        return dist\n",
    "    elif k == 0:\n",
    "        return dist\n",
    "    else:\n",
    "        dist = shortest_path(i, j, k-1, dist)\n",
    "        for row in range(n):\n",
    "            for column in range(n):\n",
    "                dist[row][column] = min(dist[row][column], dist[row][k-1] + dist[k-1][column])\n",
    "        return dist\n",
    "    \n",
    "#Now store the shortest path produced by the function, based on the graph given.\n",
    "shortest_path_matrix = shortest_path(0,3,n,graph)\n",
    "for row in shortest_path_matrix:\n",
    "    print(row)"
   ]
  },
  {
   "cell_type": "code",
   "execution_count": 78,
   "id": "d1937fe5",
   "metadata": {},
   "outputs": [
    {
     "name": "stdout",
     "output_type": "stream",
     "text": [
      "CPU times: user 66 µs, sys: 12 µs, total: 78 µs\n",
      "Wall time: 93.9 µs\n"
     ]
    },
    {
     "data": {
      "text/plain": [
       "[[0, 5, 8, 9], [999, 0, 3, 4], [999, 999, 0, 1], [999, 999, 999, 0]]"
      ]
     },
     "execution_count": 78,
     "metadata": {},
     "output_type": "execute_result"
    }
   ],
   "source": [
    "%%time\n",
    "\n",
    "shortest_path(0,3,3,graph)"
   ]
  },
  {
   "cell_type": "markdown",
   "id": "3bfb8fa5-0707-4dfa-a1b1-ba0bec7b953e",
   "metadata": {},
   "source": [
    "### Section F Unit Test "
   ]
  },
  {
   "cell_type": "code",
   "execution_count": 98,
   "id": "77a7bd43-b20a-4041-a429-ffccd343f5d8",
   "metadata": {},
   "outputs": [
    {
     "name": "stdout",
     "output_type": "stream",
     "text": [
      "shortest_path(0, 0, 0, graph) = [[0, 4, 999, 7], [999, 0, 3, 999], [999, 999, 0, 6], [7, 999, 999, 0]], expected: 0\n"
     ]
    },
    {
     "ename": "AssertionError",
     "evalue": "Failed for 0,0,0",
     "output_type": "error",
     "traceback": [
      "\u001b[0;31m---------------------------------------------------------------------------\u001b[0m",
      "\u001b[0;31mAssertionError\u001b[0m                            Traceback (most recent call last)",
      "\u001b[0;32m/var/folders/xj/_c7x6g1x51gggl_s2dvbfhth0000gn/T/ipykernel_6855/2988060262.py\u001b[0m in \u001b[0;36m<module>\u001b[0;34m\u001b[0m\n\u001b[1;32m     19\u001b[0m     \u001b[0mprint\u001b[0m\u001b[0;34m(\u001b[0m\u001b[0;34m\"All tests passed\"\u001b[0m\u001b[0;34m)\u001b[0m\u001b[0;34m\u001b[0m\u001b[0;34m\u001b[0m\u001b[0m\n\u001b[1;32m     20\u001b[0m \u001b[0;34m\u001b[0m\u001b[0m\n\u001b[0;32m---> 21\u001b[0;31m \u001b[0mtest_shortest_path\u001b[0m\u001b[0;34m(\u001b[0m\u001b[0;34m)\u001b[0m\u001b[0;34m\u001b[0m\u001b[0;34m\u001b[0m\u001b[0m\n\u001b[0m",
      "\u001b[0;32m/var/folders/xj/_c7x6g1x51gggl_s2dvbfhth0000gn/T/ipykernel_6855/2988060262.py\u001b[0m in \u001b[0;36mtest_shortest_path\u001b[0;34m()\u001b[0m\n\u001b[1;32m     16\u001b[0m                 \u001b[0mexpected\u001b[0m \u001b[0;34m=\u001b[0m \u001b[0mgraph\u001b[0m\u001b[0;34m[\u001b[0m\u001b[0mi\u001b[0m\u001b[0;34m]\u001b[0m\u001b[0;34m[\u001b[0m\u001b[0mj\u001b[0m\u001b[0;34m]\u001b[0m\u001b[0;34m\u001b[0m\u001b[0;34m\u001b[0m\u001b[0m\n\u001b[1;32m     17\u001b[0m                 \u001b[0mprint\u001b[0m\u001b[0;34m(\u001b[0m\u001b[0;34mf\"shortest_path({i}, {j}, {k}, graph) = {result}, expected: {expected}\"\u001b[0m\u001b[0;34m)\u001b[0m\u001b[0;34m\u001b[0m\u001b[0;34m\u001b[0m\u001b[0m\n\u001b[0;32m---> 18\u001b[0;31m                 \u001b[0;32massert\u001b[0m \u001b[0mresult\u001b[0m \u001b[0;34m==\u001b[0m \u001b[0mgraph\u001b[0m\u001b[0;34m[\u001b[0m\u001b[0mi\u001b[0m\u001b[0;34m]\u001b[0m\u001b[0;34m[\u001b[0m\u001b[0mj\u001b[0m\u001b[0;34m]\u001b[0m\u001b[0;34m,\u001b[0m \u001b[0;34mf\"Failed for {i},{j},{k}\"\u001b[0m\u001b[0;34m\u001b[0m\u001b[0;34m\u001b[0m\u001b[0m\n\u001b[0m\u001b[1;32m     19\u001b[0m     \u001b[0mprint\u001b[0m\u001b[0;34m(\u001b[0m\u001b[0;34m\"All tests passed\"\u001b[0m\u001b[0;34m)\u001b[0m\u001b[0;34m\u001b[0m\u001b[0;34m\u001b[0m\u001b[0m\n\u001b[1;32m     20\u001b[0m \u001b[0;34m\u001b[0m\u001b[0m\n",
      "\u001b[0;31mAssertionError\u001b[0m: Failed for 0,0,0"
     ]
    }
   ],
   "source": [
    "# Unit Test 1\n",
    "INF = 999\n",
    "def test_shortest_path():\n",
    "    n = 4\n",
    "    graph = [[0, 4, INF, 7],\n",
    "             [INF,0,3,INF ],\n",
    "             [INF,INF,0,6],\n",
    "             [7,INF,INF,0]]\n",
    "\n",
    "    for i in range(n):\n",
    "        for j in range(n):\n",
    "            for k in range(n):\n",
    "                #Calculated shortest path using recursive function\n",
    "                result = shortest_path(i, j, k, graph)\n",
    "                #Expected result - Shortest path between start and end node\n",
    "                expected = graph[i][j]\n",
    "                print(f\"shortest_path({i}, {j}, {k}, graph) = {result}, expected: {expected}\")\n",
    "                assert result == graph[i][j], f\"Failed for {i},{j},{k}\"\n",
    "    print(\"All tests passed\")\n",
    "    \n",
    "test_shortest_path()"
   ]
  },
  {
   "cell_type": "markdown",
   "id": "bf945f81",
   "metadata": {},
   "source": [
    "### Section G Imperative Version of Floyd-Warshall (University of Liverpool) - Comparing results "
   ]
  },
  {
   "cell_type": "code",
   "execution_count": 20,
   "id": "90b35642-e368-4182-bde1-30ecf97a6f4f",
   "metadata": {},
   "outputs": [],
   "source": [
    "INF = 9999\n",
    "graph = [[0, 5, INF, 10],\n",
    "         [INF, 0, 3, INF],\n",
    "         [INF, INF, 0,   1],\n",
    "         [INF, INF, INF, 0]]\n",
    "MAX_LENGTH = len(graph[0])\n",
    "\n",
    "def floyd(distance):\n",
    "\n",
    "#A simple implementation of Floyd's algorithm\n",
    "\n",
    "    for intermediate, start_node,end_node in itertools.product(range(MAX_LENGTH),range(MAX_LENGTH), range(MAX_LENGTH)):\n",
    "# Assume that if start_node and end_node are the same\n",
    "# then the distance would be zero\n",
    "        if start_node == end_node:\n",
    "            distance[start_node][end_node] = 0\n",
    "        continue\n",
    "#return all possible paths and find the minimum\n",
    "        distance[start_node][end_node] = min(distance[start_node][end_node],\n",
    "        distance[start_node][intermediate] + distance[intermediate][end_node] )\n",
    "#Any value that have sys.maxsize has no path\n",
    "    print(distance)"
   ]
  },
  {
   "cell_type": "code",
   "execution_count": 21,
   "id": "94911515",
   "metadata": {},
   "outputs": [
    {
     "name": "stdout",
     "output_type": "stream",
     "text": [
      "[[0, 5, 9999, 10], [9999, 0, 3, 9999], [9999, 9999, 0, 1], [9999, 9999, 9999, 0]]\n",
      "CPU times: user 300 µs, sys: 189 µs, total: 489 µs\n",
      "Wall time: 405 µs\n"
     ]
    }
   ],
   "source": [
    "%%time\n",
    "floyd(graph)"
   ]
  },
  {
   "cell_type": "markdown",
   "id": "c8f5480a",
   "metadata": {},
   "source": [
    "### GeekforGeeks Floyd implementation"
   ]
  },
  {
   "cell_type": "code",
   "execution_count": 13,
   "id": "0507ec5e",
   "metadata": {},
   "outputs": [
    {
     "name": "stdout",
     "output_type": "stream",
     "text": [
      "Following matrix shows the shortest distances between every pair of vertices\n",
      "      0\t       5\t       8\t       9\t \n",
      "    INF       0\t       3\t       4\t \n",
      "    INF     INF       0\t       1\t \n",
      "    INF     INF     INF       0\t \n",
      "CPU times: user 610 µs, sys: 595 µs, total: 1.2 ms\n",
      "Wall time: 944 µs\n"
     ]
    }
   ],
   "source": [
    "%%time\n",
    "# Python3 Program for Floyd Warshall Algorithm\n",
    " \n",
    "# Number of vertices in the graph\n",
    "V = 4\n",
    " \n",
    "# Define infinity as the large\n",
    "# enough value. This value will be\n",
    "# used for vertices not connected to each other\n",
    "INF = 99999\n",
    " \n",
    "# Solves all pair shortest path\n",
    "# via Floyd Warshall Algorithm\n",
    " \n",
    " \n",
    "def floydWarshall(graph):\n",
    "    \"\"\" dist[][] will be the output\n",
    "       matrix that will finally\n",
    "        have the shortest distances\n",
    "        between every pair of vertices \"\"\"\n",
    "    \"\"\" initializing the solution matrix\n",
    "    same as input graph matrix\n",
    "    OR we can say that the initial\n",
    "    values of shortest distances\n",
    "    are based on shortest paths considering no\n",
    "    intermediate vertices \"\"\"\n",
    " \n",
    "    dist = list(map(lambda i: list(map(lambda j: j, i)), graph))\n",
    " \n",
    "    \"\"\" Add all vertices one by one\n",
    "    to the set of intermediate\n",
    "     vertices.\n",
    "     ---> Before start of an iteration,\n",
    "     we have shortest distances\n",
    "     between all pairs of vertices\n",
    "     such that the shortest\n",
    "     distances consider only the\n",
    "     vertices in the set\n",
    "    {0, 1, 2, .. k-1} as intermediate vertices.\n",
    "      ----> After the end of a\n",
    "      iteration, vertex no. k is\n",
    "     added to the set of intermediate\n",
    "     vertices and the\n",
    "    set becomes {0, 1, 2, .. k}\n",
    "    \"\"\"\n",
    "    for k in range(V):\n",
    " \n",
    "        # pick all vertices as source one by one\n",
    "        for i in range(V):\n",
    " \n",
    "            # Pick all vertices as destination for the\n",
    "            # above picked source\n",
    "            for j in range(V):\n",
    " \n",
    "                # If vertex k is on the shortest path from\n",
    "                # i to j, then update the value of dist[i][j]\n",
    "                dist[i][j] = min(dist[i][j],\n",
    "                                 dist[i][k] + dist[k][j]\n",
    "                                 )\n",
    "    printSolution(dist)\n",
    " \n",
    " \n",
    "# A utility function to print the solution\n",
    "def printSolution(dist):\n",
    "    print(\"Following matrix shows the shortest distances\\\n",
    " between every pair of vertices\")\n",
    "    for i in range(V):\n",
    "        for j in range(V):\n",
    "            if(dist[i][j] == INF):\n",
    "                print(\"%7s\" % (\"INF\"), end=\" \")\n",
    "            else:\n",
    "                print(\"%7d\\t\" % (dist[i][j]), end=' ')\n",
    "            if j == V-1:\n",
    "                print()\n",
    " \n",
    " \n",
    "# Driver's code\n",
    "if __name__ == \"__main__\":\n",
    "  \"\"\"\n",
    "              10\n",
    "         (0)------->(3)\n",
    "          |         /|\\\n",
    "        5 |          |\n",
    "          |          | 1\n",
    "         \\|/         |\n",
    "         (1)------->(2)\n",
    "              3           \"\"\"\n",
    "  graph = [[0, 5, INF, 10],\n",
    "         [INF, 0, 3, INF],\n",
    "         [INF, INF, 0,   1],\n",
    "         [INF, INF, INF, 0]\n",
    "         ]\n",
    "  # Function call\n",
    "  floydWarshall(graph)\n",
    "# This code is contributed by Mythri J L"
   ]
  },
  {
   "cell_type": "code",
   "execution_count": null,
   "id": "209f75f6",
   "metadata": {},
   "outputs": [],
   "source": []
  },
  {
   "cell_type": "code",
   "execution_count": null,
   "id": "5566ba64",
   "metadata": {},
   "outputs": [],
   "source": []
  }
 ],
 "metadata": {
  "kernelspec": {
   "display_name": "Python 3 (ipykernel)",
   "language": "python",
   "name": "python3"
  },
  "language_info": {
   "codemirror_mode": {
    "name": "ipython",
    "version": 3
   },
   "file_extension": ".py",
   "mimetype": "text/x-python",
   "name": "python",
   "nbconvert_exporter": "python",
   "pygments_lexer": "ipython3",
   "version": "3.9.13"
  }
 },
 "nbformat": 4,
 "nbformat_minor": 5
}
