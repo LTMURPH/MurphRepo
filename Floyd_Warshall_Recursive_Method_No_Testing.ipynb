{
 "cells": [
  {
   "cell_type": "markdown",
   "id": "f16a84c6-9157-4d32-9519-d855d1855a81",
   "metadata": {},
   "source": [
    "# Assessment - Floyd Warshall Algorithm"
   ]
  },
  {
   "cell_type": "markdown",
   "id": "805eaa85-dcf3-4f30-866b-9ef788c1d315",
   "metadata": {},
   "source": [
    "## The aim of this notebook is to explain the differences between implementations of the Floyd-Warshall Shortest Path Algorithm. "
   ]
  },
  {
   "cell_type": "markdown",
   "id": "414fd035-9d11-4e22-abc5-a49dc3d39310",
   "metadata": {},
   "source": [
    "Load Dependencies & Set Recursion Limit:"
   ]
  },
  {
   "cell_type": "raw",
   "id": "6669fd29-e61b-4612-a68b-5782a4077773",
   "metadata": {},
   "source": [
    "import sys\n",
    "import itertools\n",
    "import unittest\n",
    "sys.setrecursionlimit(1000) "
   ]
  },
  {
   "cell_type": "markdown",
   "id": "75364aa4-b724-4ff8-916a-eea459c45e6d",
   "metadata": {},
   "source": [
    "Create a matrix graph"
   ]
  },
  {
   "cell_type": "raw",
   "id": "5076acb3-2103-4015-97d1-7c2bd8b5818d",
   "metadata": {},
   "source": [
    "INF = 999\n",
    "\n",
    "#graph of distances\n",
    "def graph = [[0, 4, INF, 7],\n",
    "         [INF,0,3,INF ],\n",
    "         [INF,INF,0,6],\n",
    "         [7,INF,INF,0]]"
   ]
  },
  {
   "cell_type": "markdown",
   "id": "ded30380",
   "metadata": {},
   "source": [
    "### Recursive Method"
   ]
  },
  {
   "cell_type": "code",
   "execution_count": 51,
   "id": "632d78a4",
   "metadata": {},
   "outputs": [],
   "source": [
    "n=4\n",
    "def shortest_path_recursion(i,j,k,dist):\n",
    "    \n",
    "# i = source vertex\n",
    "# j = destination vertex\n",
    "# k = intermediate vertex\n",
    "# dist = distance matrix\n",
    "    \n",
    "#Base Case    \n",
    "    if i == j:\n",
    "        return 0\n",
    "    elif k == 0:\n",
    "        return dist[i][j]\n",
    "#Recursive Case    \n",
    "    else:\n",
    "        dist[i][j] = min(shortest_path_recursion(i,j,k-1,dist), (shortest_path_recursion (i,k,k-1,dist))+(shortest_path_recursion(k,j,k-1,dist)))\n",
    "        return(dist[i][j])"
   ]
  },
  {
   "cell_type": "code",
   "execution_count": 52,
   "id": "a38dceae-7cce-4488-ada3-d6c9e2f20784",
   "metadata": {},
   "outputs": [
    {
     "data": {
      "text/plain": [
       "7"
      ]
     },
     "execution_count": 52,
     "metadata": {},
     "output_type": "execute_result"
    }
   ],
   "source": [
    "shortest_path_recursion(0,3,3,graph)"
   ]
  },
  {
   "cell_type": "markdown",
   "id": "6db4d099-7bf8-4a53-b83b-1e0c91f051b2",
   "metadata": {},
   "source": [
    "#### Change function to try and store all paths as a matrix. This requires changing the base case from an output of 0 if start node and end node are the same, to just returning the distance of all of them. "
   ]
  },
  {
   "cell_type": "code",
   "execution_count": 53,
   "id": "52803ae5-261c-4f4c-9f76-955578dc35a1",
   "metadata": {},
   "outputs": [
    {
     "name": "stdout",
     "output_type": "stream",
     "text": [
      "[0, 4, [[...], [999, 0, 3, 999], [999, 999, 0, [...]], [7, 999, 999, 0]], [[...], [999, 0, 3, 999], [999, 999, 0, [...]], [7, 999, 999, 0]]]\n",
      "[999, 0, 3, 999]\n",
      "[999, 999, 0, [[0, 4, [...], [...]], [999, 0, 3, 999], [...], [7, 999, 999, 0]]]\n",
      "[7, 999, 999, 0]\n"
     ]
    }
   ],
   "source": [
    "INF = 999\n",
    "#graph of distances\n",
    "graph = [[0, 4, INF, 7],\n",
    "         [INF,0,3,INF ],\n",
    "         [INF,INF,0,6],\n",
    "         [7,INF,INF,0]]\n",
    "\n",
    "#Create a recursive function \n",
    "def shortest_path_recursion_matrix(i,j,k,dist):\n",
    "    if i == j:\n",
    "        return dist\n",
    "    elif k == 0:\n",
    "        return dist\n",
    "#We find the minimum distance between the points from the 3 possible routes\n",
    "    else:\n",
    "        dist[i][j] = min(shortest_path_recursion_matrix(i,j,k-1,dist), (shortest_path_recursion_matrix (i,k,k-1,dist))+(shortest_path_recursion_matrix(k,j,k-1,dist)))\n",
    "        return(dist[i][j])\n",
    "\n",
    "dist = [row[:] for row in graph]\n",
    "\n",
    "shortest_path_matrix = shortest_path_recursion_matrix(0,3,3,graph)\n",
    "for v in shortest_path_matrix:\n",
    "    print(v)"
   ]
  },
  {
   "cell_type": "code",
   "execution_count": 54,
   "id": "48eb9687-9c6a-4acb-af3d-8b86a97d8d14",
   "metadata": {},
   "outputs": [
    {
     "name": "stdout",
     "output_type": "stream",
     "text": [
      "Shortest path from 0 to 1 is 4\n",
      "Shortest path from 0 to 2 is 7\n",
      "Shortest path from 0 to 3 is 7\n",
      "Shortest path from 1 to 0 is 16\n",
      "Shortest path from 1 to 2 is 3\n",
      "Shortest path from 1 to 3 is 9\n",
      "Shortest path from 2 to 0 is 13\n",
      "Shortest path from 2 to 1 is 999\n",
      "Shortest path from 2 to 3 is 6\n",
      "Shortest path from 3 to 0 is 7\n",
      "Shortest path from 3 to 1 is 999\n",
      "Shortest path from 3 to 2 is 999\n"
     ]
    }
   ],
   "source": [
    "INF = 999\n",
    "#graph of distances\n",
    "graph = [[0, 4, INF, 7],\n",
    "         [INF,0,3,INF ],\n",
    "         [INF,INF,0,6],\n",
    "         [7,INF,INF,0]]\n",
    "\n",
    "#Create a recursive function \n",
    "def shortest_path_recursion(i,j,k,dist):\n",
    "    if i == j:\n",
    "        return 0\n",
    "    elif k == 0:\n",
    "        return dist[i][j]\n",
    "#We find the minimum distance between the points from the 3 possible routes\n",
    "    else:\n",
    "        dist[i][j] = min(shortest_path_recursion(i,j,k-1,dist), (shortest_path_recursion (i,k,k-1,dist))+(shortest_path_recursion(k,j,k-1,dist)))\n",
    "        return(dist[i][j])\n",
    "n = 4\n",
    "for i in range(n):\n",
    "    for j in range(n):\n",
    "        if i != j:\n",
    "            print(f\"Shortest path from {i} to {j} is {shortest_path_recursion(i, j, 3, graph)}\")\n"
   ]
  },
  {
   "cell_type": "markdown",
   "id": "8bfc1740-f66d-4b23-abd7-632ee7cfb0b7",
   "metadata": {},
   "source": [
    "#### Now I need to try and produce as a matrix, rather than an integer"
   ]
  },
  {
   "cell_type": "markdown",
   "id": "232cfaed",
   "metadata": {},
   "source": [
    "Adding an iteration in else clause, alongside recursive case. "
   ]
  },
  {
   "cell_type": "code",
   "execution_count": 50,
   "id": "a8e4abf3-9d75-4bc0-b98e-8131854cd012",
   "metadata": {},
   "outputs": [
    {
     "name": "stdout",
     "output_type": "stream",
     "text": [
      "[0, 4, 7, 7]\n",
      "[16, 0, 3, 9]\n",
      "[13, 17, 0, 6]\n",
      "[7, 11, 14, 0]\n"
     ]
    }
   ],
   "source": [
    "INF = 9999\n",
    "n = 4\n",
    "graph = [[0, 4, INF, 7],\n",
    "         [INF,0,3,INF ],\n",
    "         [INF,INF,0,6],\n",
    "         [7,INF,INF,0]]\n",
    "\n",
    "def shortest_path(i,j,k,dist):\n",
    "    if i == j:\n",
    "        return dist\n",
    "    elif k == 0:\n",
    "        return dist\n",
    "    else:\n",
    "        dist = shortest_path(i, j, k-1, dist)\n",
    "        for row in range(n):\n",
    "            for column in range(n):\n",
    "                dist[row][column] = min(dist[row][column], dist[row][k-1] + dist[k-1][column])\n",
    "        return dist\n",
    "    \n",
    "#Now store the shortest path produced by the function, based on the graph given.\n",
    "shortest_path_matrix = shortest_path(0,3,n,graph)\n",
    "for row in shortest_path_matrix:\n",
    "    print(row)"
   ]
  },
  {
   "cell_type": "markdown",
   "id": "22990dc0-5bbe-4acb-8572-dca4fd965a01",
   "metadata": {},
   "source": [
    "## Iterative / Imperative Version of Floyd-Warshall (Liverpool Uni) - Comparing results "
   ]
  },
  {
   "cell_type": "code",
   "execution_count": 36,
   "id": "90b35642-e368-4182-bde1-30ecf97a6f4f",
   "metadata": {},
   "outputs": [
    {
     "name": "stdout",
     "output_type": "stream",
     "text": [
      "[[0, 4, 9999, 7], [9999, 0, 3, 9999], [9999, 9999, 0, 6], [7, 9999, 9999, 0]]\n"
     ]
    }
   ],
   "source": [
    "import sys\n",
    "import itertools\n",
    "\n",
    "INF = 9999\n",
    "graph = [[0, 4, INF, 7],\n",
    "         [INF,0,3,INF ],\n",
    "         [INF,INF,0,6],\n",
    "         [7,INF,INF,0]]\n",
    "MAX_LENGTH = len(graph[0])\n",
    "\n",
    "def floyd(distance):\n",
    "\n",
    "#A simple implementation of Floyd's algorithm\n",
    "\n",
    "    for intermediate, start_node,end_node in itertools.product(range(MAX_LENGTH),range(MAX_LENGTH), range(MAX_LENGTH)):\n",
    "# Assume that if start_node and end_node are the same\n",
    "# then the distance would be zero\n",
    "        if start_node == end_node:\n",
    "            distance[start_node][end_node] = 0\n",
    "        continue\n",
    "#return all possible paths and find the minimum\n",
    "        distance[start_node][end_node] = min(distance[start_node][end_node],\n",
    "        distance[start_node][intermediate] + distance[intermediate][end_node] )\n",
    "#Any value that have sys.maxsize has no path\n",
    "    print(distance)\n",
    "floyd(graph)"
   ]
  },
  {
   "cell_type": "code",
   "execution_count": null,
   "id": "1144a5d7",
   "metadata": {},
   "outputs": [],
   "source": []
  },
  {
   "cell_type": "code",
   "execution_count": null,
   "id": "0eea10b1",
   "metadata": {},
   "outputs": [],
   "source": []
  }
 ],
 "metadata": {
  "kernelspec": {
   "display_name": "Python 3 (ipykernel)",
   "language": "python",
   "name": "python3"
  },
  "language_info": {
   "codemirror_mode": {
    "name": "ipython",
    "version": 3
   },
   "file_extension": ".py",
   "mimetype": "text/x-python",
   "name": "python",
   "nbconvert_exporter": "python",
   "pygments_lexer": "ipython3",
   "version": "3.9.13"
  }
 },
 "nbformat": 4,
 "nbformat_minor": 5
}
