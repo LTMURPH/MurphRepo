{
 "cells": [
  {
   "cell_type": "markdown",
   "id": "f16a84c6-9157-4d32-9519-d855d1855a81",
   "metadata": {},
   "source": [
    "# Assessment - Floyd Warshall Algorithm"
   ]
  },
  {
   "cell_type": "markdown",
   "id": "805eaa85-dcf3-4f30-866b-9ef788c1d315",
   "metadata": {},
   "source": [
    "## The aim of this notebook is to explain the differences between implementations of the Floyd-Warshall Shortest Path Algorithm. "
   ]
  },
  {
   "cell_type": "markdown",
   "id": "414fd035-9d11-4e22-abc5-a49dc3d39310",
   "metadata": {},
   "source": [
    "Load Dependencies & Set Recursion Limit:"
   ]
  },
  {
   "cell_type": "code",
   "execution_count": 162,
   "id": "2ecaab18-1bd3-4d47-9f29-e3997ba88e96",
   "metadata": {},
   "outputs": [],
   "source": [
    "import sys\n",
    "import itertools\n",
    "import unittest\n",
    "sys.setrecursionlimit(100) "
   ]
  },
  {
   "cell_type": "markdown",
   "id": "75364aa4-b724-4ff8-916a-eea459c45e6d",
   "metadata": {},
   "source": [
    "Create a matrix graph"
   ]
  },
  {
   "cell_type": "code",
   "execution_count": 158,
   "id": "b12b1a9a-f723-4342-9f65-d83f39db3253",
   "metadata": {},
   "outputs": [],
   "source": [
    "INF = 9999\n",
    "\n",
    "#graph of distances\n",
    "graph = [[0, 4, INF, 7],\n",
    "         [INF,0,3,INF ],\n",
    "         [INF,INF,0,6],\n",
    "         [7,INF,INF,0]]"
   ]
  },
  {
   "cell_type": "markdown",
   "id": "387fe945-ce26-4969-aba9-34b51b520bbb",
   "metadata": {},
   "source": [
    "### Recursive Method"
   ]
  },
  {
   "cell_type": "code",
   "execution_count": 160,
   "id": "52803ae5-261c-4f4c-9f76-955578dc35a1",
   "metadata": {},
   "outputs": [],
   "source": [
    "n=4\n",
    "# i = source vertex\n",
    "# j = destination vertex\n",
    "# k = intermediate vertex\n",
    "# graph = distance matrix\n",
    "\n",
    "def shortest_path(i,j,k,dist):\n",
    "    if i == j:\n",
    "        return 0 \n",
    "    elif k == 0:\n",
    "        return dist[i][j]\n",
    "#if not zero then we find the minimum distance between the points from the 3 possible routes of our matrix\n",
    "    else:\n",
    "        dist[i][j] = min(shortest_path(i,j,k-1,dist), (shortest_path (i,k,k-1,dist))+(shortest_path(k,j,k-1,dist)))\n",
    "        return(dist[i][j])\n",
    "\n",
    "#Now store the shortest path produced by the function, based on the graph given.    "
   ]
  },
  {
   "cell_type": "code",
   "execution_count": 161,
   "id": "1049a989-80e0-4e65-a1bc-b3b870fbed25",
   "metadata": {},
   "outputs": [
    {
     "data": {
      "text/plain": [
       "7"
      ]
     },
     "execution_count": 161,
     "metadata": {},
     "output_type": "execute_result"
    }
   ],
   "source": [
    "shortest_path(0,3,3,graph)"
   ]
  },
  {
   "cell_type": "code",
   "execution_count": 163,
   "id": "9bad35b3-e09f-4ea0-8040-1e667dd205a5",
   "metadata": {},
   "outputs": [
    {
     "name": "stderr",
     "output_type": "stream",
     "text": [
      "E\n",
      "======================================================================\n",
      "ERROR: /Users/luke/Library/Jupyter/runtime/kernel-48700c05-b475-44b5-94bc-e08b87007a72 (unittest.loader._FailedTest)\n",
      "----------------------------------------------------------------------\n",
      "AttributeError: module '__main__' has no attribute '/Users/luke/Library/Jupyter/runtime/kernel-48700c05-b475-44b5-94bc-e08b87007a72'\n",
      "\n",
      "----------------------------------------------------------------------\n",
      "Ran 1 test in 0.002s\n",
      "\n",
      "FAILED (errors=1)\n"
     ]
    },
    {
     "ename": "SystemExit",
     "evalue": "True",
     "output_type": "error",
     "traceback": [
      "An exception has occurred, use %tb to see the full traceback.\n",
      "\u001b[0;31mSystemExit\u001b[0m\u001b[0;31m:\u001b[0m True\n"
     ]
    },
    {
     "name": "stderr",
     "output_type": "stream",
     "text": [
      "/Users/luke/opt/anaconda3/lib/python3.9/site-packages/IPython/core/interactiveshell.py:3465: UserWarning: To exit: use 'exit', 'quit', or Ctrl-D.\n",
      "  warn(\"To exit: use 'exit', 'quit', or Ctrl-D.\", stacklevel=1)\n"
     ]
    }
   ],
   "source": [
    "if __name__ == '__main__':\n",
    "    unittest.main()"
   ]
  },
  {
   "cell_type": "markdown",
   "id": "8bfc1740-f66d-4b23-abd7-632ee7cfb0b7",
   "metadata": {},
   "source": [
    "Run as a matrix"
   ]
  },
  {
   "cell_type": "code",
   "execution_count": 157,
   "id": "f4ad993a-f4a2-49dd-9be4-7d17cc1d9187",
   "metadata": {},
   "outputs": [
    {
     "ename": "TypeError",
     "evalue": "'<' not supported between instances of 'int' and 'list'",
     "output_type": "error",
     "traceback": [
      "\u001b[0;31m---------------------------------------------------------------------------\u001b[0m",
      "\u001b[0;31mTypeError\u001b[0m                                 Traceback (most recent call last)",
      "\u001b[0;32m/var/folders/xj/_c7x6g1x51gggl_s2dvbfhth0000gn/T/ipykernel_41018/4015670142.py\u001b[0m in \u001b[0;36m<module>\u001b[0;34m\u001b[0m\n\u001b[1;32m     22\u001b[0m     \u001b[0;32mreturn\u001b[0m \u001b[0mdist\u001b[0m\u001b[0;34m\u001b[0m\u001b[0;34m\u001b[0m\u001b[0m\n\u001b[1;32m     23\u001b[0m \u001b[0;34m\u001b[0m\u001b[0m\n\u001b[0;32m---> 24\u001b[0;31m \u001b[0mshortest_path_matrix\u001b[0m \u001b[0;34m=\u001b[0m \u001b[0mshortest_path\u001b[0m\u001b[0;34m(\u001b[0m\u001b[0;36m0\u001b[0m\u001b[0;34m,\u001b[0m\u001b[0;36m3\u001b[0m\u001b[0;34m,\u001b[0m\u001b[0;36m3\u001b[0m\u001b[0;34m,\u001b[0m\u001b[0mgraph\u001b[0m\u001b[0;34m)\u001b[0m\u001b[0;34m\u001b[0m\u001b[0;34m\u001b[0m\u001b[0m\n\u001b[0m\u001b[1;32m     25\u001b[0m \u001b[0;32mfor\u001b[0m \u001b[0mrow\u001b[0m \u001b[0;32min\u001b[0m \u001b[0mshortest_path_matrix\u001b[0m\u001b[0;34m:\u001b[0m\u001b[0;34m\u001b[0m\u001b[0;34m\u001b[0m\u001b[0m\n\u001b[1;32m     26\u001b[0m     \u001b[0mprint\u001b[0m\u001b[0;34m(\u001b[0m\u001b[0mrow\u001b[0m\u001b[0;34m)\u001b[0m\u001b[0;34m\u001b[0m\u001b[0;34m\u001b[0m\u001b[0m\n",
      "\u001b[0;32m/var/folders/xj/_c7x6g1x51gggl_s2dvbfhth0000gn/T/ipykernel_41018/4015670142.py\u001b[0m in \u001b[0;36mshortest_path\u001b[0;34m(i, j, k, dist)\u001b[0m\n\u001b[1;32m     12\u001b[0m \u001b[0;31m#if not zero then we find the minimum distance between the points from the 3 possible routes of our matrix\u001b[0m\u001b[0;34m\u001b[0m\u001b[0;34m\u001b[0m\u001b[0m\n\u001b[1;32m     13\u001b[0m     \u001b[0;32melse\u001b[0m\u001b[0;34m:\u001b[0m\u001b[0;34m\u001b[0m\u001b[0;34m\u001b[0m\u001b[0m\n\u001b[0;32m---> 14\u001b[0;31m         \u001b[0mdist\u001b[0m\u001b[0;34m[\u001b[0m\u001b[0mi\u001b[0m\u001b[0;34m]\u001b[0m\u001b[0;34m[\u001b[0m\u001b[0mj\u001b[0m\u001b[0;34m]\u001b[0m \u001b[0;34m=\u001b[0m \u001b[0mmin\u001b[0m\u001b[0;34m(\u001b[0m\u001b[0;34m(\u001b[0m\u001b[0mshortest_path\u001b[0m\u001b[0;34m(\u001b[0m\u001b[0mi\u001b[0m\u001b[0;34m,\u001b[0m\u001b[0mj\u001b[0m\u001b[0;34m,\u001b[0m\u001b[0mk\u001b[0m\u001b[0;34m-\u001b[0m\u001b[0;36m1\u001b[0m\u001b[0;34m,\u001b[0m\u001b[0mdist\u001b[0m\u001b[0;34m)\u001b[0m\u001b[0;34m,\u001b[0m\u001b[0;34m(\u001b[0m\u001b[0mshortest_path\u001b[0m\u001b[0;34m(\u001b[0m\u001b[0mi\u001b[0m\u001b[0;34m,\u001b[0m\u001b[0mk\u001b[0m\u001b[0;34m,\u001b[0m\u001b[0mk\u001b[0m\u001b[0;34m-\u001b[0m\u001b[0;36m1\u001b[0m\u001b[0;34m,\u001b[0m\u001b[0mdist\u001b[0m\u001b[0;34m)\u001b[0m\u001b[0;34m)\u001b[0m\u001b[0;34m+\u001b[0m\u001b[0;34m(\u001b[0m\u001b[0mshortest_path\u001b[0m\u001b[0;34m(\u001b[0m\u001b[0mk\u001b[0m\u001b[0;34m,\u001b[0m\u001b[0mj\u001b[0m\u001b[0;34m,\u001b[0m\u001b[0mk\u001b[0m\u001b[0;34m-\u001b[0m\u001b[0;36m1\u001b[0m\u001b[0;34m,\u001b[0m\u001b[0mdist\u001b[0m\u001b[0;34m)\u001b[0m\u001b[0;34m)\u001b[0m\u001b[0;34m)\u001b[0m\u001b[0;34m)\u001b[0m\u001b[0;34m\u001b[0m\u001b[0;34m\u001b[0m\u001b[0m\n\u001b[0m\u001b[1;32m     15\u001b[0m         \u001b[0;32mreturn\u001b[0m \u001b[0mdist\u001b[0m\u001b[0;34m[\u001b[0m\u001b[0mi\u001b[0m\u001b[0;34m]\u001b[0m\u001b[0;34m[\u001b[0m\u001b[0mj\u001b[0m\u001b[0;34m]\u001b[0m\u001b[0;34m\u001b[0m\u001b[0;34m\u001b[0m\u001b[0m\n\u001b[1;32m     16\u001b[0m \u001b[0;34m\u001b[0m\u001b[0m\n",
      "\u001b[0;32m/var/folders/xj/_c7x6g1x51gggl_s2dvbfhth0000gn/T/ipykernel_41018/4015670142.py\u001b[0m in \u001b[0;36mshortest_path\u001b[0;34m(i, j, k, dist)\u001b[0m\n\u001b[1;32m     12\u001b[0m \u001b[0;31m#if not zero then we find the minimum distance between the points from the 3 possible routes of our matrix\u001b[0m\u001b[0;34m\u001b[0m\u001b[0;34m\u001b[0m\u001b[0m\n\u001b[1;32m     13\u001b[0m     \u001b[0;32melse\u001b[0m\u001b[0;34m:\u001b[0m\u001b[0;34m\u001b[0m\u001b[0;34m\u001b[0m\u001b[0m\n\u001b[0;32m---> 14\u001b[0;31m         \u001b[0mdist\u001b[0m\u001b[0;34m[\u001b[0m\u001b[0mi\u001b[0m\u001b[0;34m]\u001b[0m\u001b[0;34m[\u001b[0m\u001b[0mj\u001b[0m\u001b[0;34m]\u001b[0m \u001b[0;34m=\u001b[0m \u001b[0mmin\u001b[0m\u001b[0;34m(\u001b[0m\u001b[0;34m(\u001b[0m\u001b[0mshortest_path\u001b[0m\u001b[0;34m(\u001b[0m\u001b[0mi\u001b[0m\u001b[0;34m,\u001b[0m\u001b[0mj\u001b[0m\u001b[0;34m,\u001b[0m\u001b[0mk\u001b[0m\u001b[0;34m-\u001b[0m\u001b[0;36m1\u001b[0m\u001b[0;34m,\u001b[0m\u001b[0mdist\u001b[0m\u001b[0;34m)\u001b[0m\u001b[0;34m,\u001b[0m\u001b[0;34m(\u001b[0m\u001b[0mshortest_path\u001b[0m\u001b[0;34m(\u001b[0m\u001b[0mi\u001b[0m\u001b[0;34m,\u001b[0m\u001b[0mk\u001b[0m\u001b[0;34m,\u001b[0m\u001b[0mk\u001b[0m\u001b[0;34m-\u001b[0m\u001b[0;36m1\u001b[0m\u001b[0;34m,\u001b[0m\u001b[0mdist\u001b[0m\u001b[0;34m)\u001b[0m\u001b[0;34m)\u001b[0m\u001b[0;34m+\u001b[0m\u001b[0;34m(\u001b[0m\u001b[0mshortest_path\u001b[0m\u001b[0;34m(\u001b[0m\u001b[0mk\u001b[0m\u001b[0;34m,\u001b[0m\u001b[0mj\u001b[0m\u001b[0;34m,\u001b[0m\u001b[0mk\u001b[0m\u001b[0;34m-\u001b[0m\u001b[0;36m1\u001b[0m\u001b[0;34m,\u001b[0m\u001b[0mdist\u001b[0m\u001b[0;34m)\u001b[0m\u001b[0;34m)\u001b[0m\u001b[0;34m)\u001b[0m\u001b[0;34m)\u001b[0m\u001b[0;34m\u001b[0m\u001b[0;34m\u001b[0m\u001b[0m\n\u001b[0m\u001b[1;32m     15\u001b[0m         \u001b[0;32mreturn\u001b[0m \u001b[0mdist\u001b[0m\u001b[0;34m[\u001b[0m\u001b[0mi\u001b[0m\u001b[0;34m]\u001b[0m\u001b[0;34m[\u001b[0m\u001b[0mj\u001b[0m\u001b[0;34m]\u001b[0m\u001b[0;34m\u001b[0m\u001b[0;34m\u001b[0m\u001b[0m\n\u001b[1;32m     16\u001b[0m \u001b[0;34m\u001b[0m\u001b[0m\n",
      "\u001b[0;32m/var/folders/xj/_c7x6g1x51gggl_s2dvbfhth0000gn/T/ipykernel_41018/4015670142.py\u001b[0m in \u001b[0;36mshortest_path\u001b[0;34m(i, j, k, dist)\u001b[0m\n\u001b[1;32m     12\u001b[0m \u001b[0;31m#if not zero then we find the minimum distance between the points from the 3 possible routes of our matrix\u001b[0m\u001b[0;34m\u001b[0m\u001b[0;34m\u001b[0m\u001b[0m\n\u001b[1;32m     13\u001b[0m     \u001b[0;32melse\u001b[0m\u001b[0;34m:\u001b[0m\u001b[0;34m\u001b[0m\u001b[0;34m\u001b[0m\u001b[0m\n\u001b[0;32m---> 14\u001b[0;31m         \u001b[0mdist\u001b[0m\u001b[0;34m[\u001b[0m\u001b[0mi\u001b[0m\u001b[0;34m]\u001b[0m\u001b[0;34m[\u001b[0m\u001b[0mj\u001b[0m\u001b[0;34m]\u001b[0m \u001b[0;34m=\u001b[0m \u001b[0mmin\u001b[0m\u001b[0;34m(\u001b[0m\u001b[0;34m(\u001b[0m\u001b[0mshortest_path\u001b[0m\u001b[0;34m(\u001b[0m\u001b[0mi\u001b[0m\u001b[0;34m,\u001b[0m\u001b[0mj\u001b[0m\u001b[0;34m,\u001b[0m\u001b[0mk\u001b[0m\u001b[0;34m-\u001b[0m\u001b[0;36m1\u001b[0m\u001b[0;34m,\u001b[0m\u001b[0mdist\u001b[0m\u001b[0;34m)\u001b[0m\u001b[0;34m,\u001b[0m\u001b[0;34m(\u001b[0m\u001b[0mshortest_path\u001b[0m\u001b[0;34m(\u001b[0m\u001b[0mi\u001b[0m\u001b[0;34m,\u001b[0m\u001b[0mk\u001b[0m\u001b[0;34m,\u001b[0m\u001b[0mk\u001b[0m\u001b[0;34m-\u001b[0m\u001b[0;36m1\u001b[0m\u001b[0;34m,\u001b[0m\u001b[0mdist\u001b[0m\u001b[0;34m)\u001b[0m\u001b[0;34m)\u001b[0m\u001b[0;34m+\u001b[0m\u001b[0;34m(\u001b[0m\u001b[0mshortest_path\u001b[0m\u001b[0;34m(\u001b[0m\u001b[0mk\u001b[0m\u001b[0;34m,\u001b[0m\u001b[0mj\u001b[0m\u001b[0;34m,\u001b[0m\u001b[0mk\u001b[0m\u001b[0;34m-\u001b[0m\u001b[0;36m1\u001b[0m\u001b[0;34m,\u001b[0m\u001b[0mdist\u001b[0m\u001b[0;34m)\u001b[0m\u001b[0;34m)\u001b[0m\u001b[0;34m)\u001b[0m\u001b[0;34m)\u001b[0m\u001b[0;34m\u001b[0m\u001b[0;34m\u001b[0m\u001b[0m\n\u001b[0m\u001b[1;32m     15\u001b[0m         \u001b[0;32mreturn\u001b[0m \u001b[0mdist\u001b[0m\u001b[0;34m[\u001b[0m\u001b[0mi\u001b[0m\u001b[0;34m]\u001b[0m\u001b[0;34m[\u001b[0m\u001b[0mj\u001b[0m\u001b[0;34m]\u001b[0m\u001b[0;34m\u001b[0m\u001b[0;34m\u001b[0m\u001b[0m\n\u001b[1;32m     16\u001b[0m \u001b[0;34m\u001b[0m\u001b[0m\n",
      "\u001b[0;31mTypeError\u001b[0m: '<' not supported between instances of 'int' and 'list'"
     ]
    }
   ],
   "source": [
    "n = 4\n",
    "# i = source vertex\n",
    "# j = destination vertex\n",
    "# k = intermediate vertex\n",
    "# graph = distance matrix\n",
    "\n",
    "def shortest_path(i,j,k,dist):\n",
    "    if i == j:\n",
    "        return 0 \n",
    "    elif k == 0:\n",
    "        return dist[i][j]\n",
    "#if not zero then we find the minimum distance between the points from the 3 possible routes of our matrix\n",
    "    else:\n",
    "        dist[i][j] = min((shortest_path(i,j,k-1,dist),(shortest_path(i,k,k-1,dist))+(shortest_path(k,j,k-1,dist))))\n",
    "        return dist[i][j]\n",
    "    \n",
    "def floyd(disr):\n",
    "    for k in range(n):\n",
    "        for i in range(n):\n",
    "            for j in range(n):\n",
    "                dist[i][j] = min(dist[i][j], dist[i][k] + dist[k][j])\n",
    "    return dist\n",
    "    \n",
    "shortest_path_matrix = shortest_path(0,3,3,graph)\n",
    "for row in shortest_path_matrix:\n",
    "    print(row)"
   ]
  },
  {
   "cell_type": "markdown",
   "id": "1013d5af-96d3-4799-97b4-111a52bdeffc",
   "metadata": {},
   "source": [
    "Now store the shortest path produced by the function, based on the graph given. "
   ]
  },
  {
   "cell_type": "code",
   "execution_count": null,
   "id": "033e3c3a-d38d-495d-aba6-716c6aa91079",
   "metadata": {},
   "outputs": [],
   "source": [
    "shortest_path_matrix = shortest_path(0,3,3,graph)\n",
    "for row in shortest_path_matrix:\n",
    "    print(row)"
   ]
  },
  {
   "cell_type": "markdown",
   "id": "22990dc0-5bbe-4acb-8572-dca4fd965a01",
   "metadata": {},
   "source": [
    "## Iterative / Imperative Version of Floyd-Warshall"
   ]
  },
  {
   "cell_type": "code",
   "execution_count": null,
   "id": "e2c2205c-6534-40c2-8de0-849b719b2cb5",
   "metadata": {},
   "outputs": [],
   "source": [
    "import sys\n",
    "import itertools\n",
    "\n",
    "NO_PATH = sys.maxsize\n",
    "graph = [[0, 7, NO_PATH, 8],\n",
    "        [NO_PATH, 0, 5, NO_PATH],\n",
    "        [NO_PATH, NO_PATH, 0, 2],\n",
    "        [NO_PATH, NO_PATH, NO_PATH, 0]]\n",
    "MAX_LENGTH = len(graph[0])\n",
    "\n",
    "def floyd(distance):\n",
    "\n",
    "#A simple implementation of Floyd's algorithm\n",
    "\n",
    "    for intermediate, start_node,end_node in itertools.product(range(MAX_LENGTH),range(MAX_LENGTH), range(MAX_LENGTH)):\n",
    "# Assume that if start_node and end_node are the same\n",
    "# then the distance would be zero\n",
    "        if start_node == end_node:\n",
    "            distance[start_node][end_node] = 0\n",
    "        continue\n",
    "#return all possible paths and find the minimum\n",
    "        distance[start_node][end_node] = min(distance[start_node][end_node],\n",
    "        distance[start_node][intermediate] + distance[intermediate][end_node] )\n",
    "#Any value that have sys.maxsize has no path\n",
    "    print(distance)\n",
    "floyd(graph)"
   ]
  },
  {
   "cell_type": "markdown",
   "id": "d7f5eca0-abab-4f2f-84b4-b46c53e88a55",
   "metadata": {},
   "source": [
    "## Iterative Version Using Our New Murphy-Murphy Graph"
   ]
  },
  {
   "cell_type": "code",
   "execution_count": null,
   "id": "90b35642-e368-4182-bde1-30ecf97a6f4f",
   "metadata": {},
   "outputs": [],
   "source": [
    "import sys\n",
    "import itertools\n",
    "\n",
    "INF = 9999\n",
    "graph = [[0, 4, INF, 7],\n",
    "         [INF,0,3,INF ],\n",
    "         [INF,INF,0,6],\n",
    "         [7,INF,INF,0]]\n",
    "MAX_LENGTH = len(graph[0])\n",
    "\n",
    "def floyd(distance):\n",
    "\n",
    "#A simple implementation of Floyd's algorithm\n",
    "\n",
    "    for intermediate, start_node,end_node in itertools.product(range(MAX_LENGTH),range(MAX_LENGTH), range(MAX_LENGTH)):\n",
    "# Assume that if start_node and end_node are the same\n",
    "# then the distance would be zero\n",
    "        if start_node == end_node:\n",
    "            distance[start_node][end_node] = 0\n",
    "        continue\n",
    "#return all possible paths and find the minimum\n",
    "        distance[start_node][end_node] = min(distance[start_node][end_node],\n",
    "        distance[start_node][intermediate] + distance[intermediate][end_node] )\n",
    "#Any value that have sys.maxsize has no path\n",
    "    print(distance)\n",
    "floyd(graph)"
   ]
  }
 ],
 "metadata": {
  "kernelspec": {
   "display_name": "Python 3 (ipykernel)",
   "language": "python",
   "name": "python3"
  },
  "language_info": {
   "codemirror_mode": {
    "name": "ipython",
    "version": 3
   },
   "file_extension": ".py",
   "mimetype": "text/x-python",
   "name": "python",
   "nbconvert_exporter": "python",
   "pygments_lexer": "ipython3",
   "version": "3.9.13"
  }
 },
 "nbformat": 4,
 "nbformat_minor": 5
}
